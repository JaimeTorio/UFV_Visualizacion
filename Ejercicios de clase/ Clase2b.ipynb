{
  "nbformat": 4,
  "nbformat_minor": 0,
  "metadata": {
    "colab": {
      "provenance": [],
      "authorship_tag": "ABX9TyOxVvqxQoL03ORUGSnnRado",
      "include_colab_link": true
    },
    "kernelspec": {
      "name": "python3",
      "display_name": "Python 3"
    },
    "language_info": {
      "name": "python"
    }
  },
  "cells": [
    {
      "cell_type": "markdown",
      "metadata": {
        "id": "view-in-github",
        "colab_type": "text"
      },
      "source": [
        "<a href=\"https://colab.research.google.com/github/JaimeTorio/UFV_Visualizacion/blob/main/Ejercicios%20de%20clase/%20Clase2b.ipynb\" target=\"_parent\"><img src=\"https://colab.research.google.com/assets/colab-badge.svg\" alt=\"Open In Colab\"/></a>"
      ]
    },
    {
      "cell_type": "markdown",
      "source": [
        "# **Clase 18/10/2024**"
      ],
      "metadata": {
        "id": "vI8T2kiuadyz"
      }
    },
    {
      "cell_type": "code",
      "source": [
        "import pandas as pd\n",
        "df = pd.read_csv('datos_ejercicio_ventas.csv')\n",
        "print(df.head())\n"
      ],
      "metadata": {
        "colab": {
          "base_uri": "https://localhost:8080/"
        },
        "id": "dt3RDjvtawoM",
        "outputId": "10670a36-a51a-4c9e-d75f-50bb2631c636"
      },
      "execution_count": 1,
      "outputs": [
        {
          "output_type": "stream",
          "name": "stdout",
          "text": [
            "         COUNTRY        SUBBRAND  YEAR  MONTH     SCENARIO FORECAST  \\\n",
            "0       Portugal     Lipton (L3)  2023     12  AI_forecast  AI_P02F   \n",
            "1  Great Britain     Lipton (L3)  2023     12  AI_forecast  AI_P10F   \n",
            "2          Spain  Pepsi Max (L3)  2023     12  AI_forecast  AI_P09F   \n",
            "3  Great Britain        7up (L3)  2024     12  AI_forecast  AI_P10F   \n",
            "4        Hungary     Lipton (L3)  2023      9  AI_forecast  AI_P03F   \n",
            "\n",
            "   FORECAST_YEAR         AMOUNT  \n",
            "0         2023.0  754356.237194  \n",
            "1         2023.0  560030.558029  \n",
            "2         2023.0   88501.980847  \n",
            "3         2023.0  363224.511516  \n",
            "4         2023.0  396176.120491  \n"
          ]
        }
      ]
    },
    {
      "cell_type": "code",
      "source": [
        "# 1. Tamaño del Dataset\n",
        "dataset_size = df.shape\n",
        "print(f'Tamaño del dataset: {dataset_size}')"
      ],
      "metadata": {
        "colab": {
          "base_uri": "https://localhost:8080/"
        },
        "id": "AblgXwJgetkQ",
        "outputId": "00facede-cc83-4dc1-f615-74f2dca597c5"
      },
      "execution_count": 6,
      "outputs": [
        {
          "output_type": "stream",
          "name": "stdout",
          "text": [
            "Tamaño del dataset: (18666, 8)\n"
          ]
        }
      ]
    },
    {
      "cell_type": "code",
      "source": [
        "# 2. Número de Actuals y Forecast\n",
        "actuals_forecast_count = df['SCENARIO'].value_counts()\n",
        "print(f'Número de Actuals y Forecast: \\n{actuals_forecast_count}')"
      ],
      "metadata": {
        "colab": {
          "base_uri": "https://localhost:8080/"
        },
        "id": "TA-UclvQeu5u",
        "outputId": "01dd97fe-b6aa-48c4-f94c-4d61c99223b8"
      },
      "execution_count": 7,
      "outputs": [
        {
          "output_type": "stream",
          "name": "stdout",
          "text": [
            "Número de Actuals y Forecast: \n",
            "SCENARIO\n",
            "AI_forecast    17766\n",
            "actual           900\n",
            "Name: count, dtype: int64\n"
          ]
        }
      ]
    },
    {
      "cell_type": "code",
      "source": [
        "# 3. Horizontes de predicción (año/mes únicos)\n",
        "prediction_horizons = df[['YEAR', 'MONTH']].drop_duplicates().shape[0]\n",
        "print(f'Horizontes de predicción: {prediction_horizons}')"
      ],
      "metadata": {
        "colab": {
          "base_uri": "https://localhost:8080/"
        },
        "id": "M2ZqSbecfFFt",
        "outputId": "1391bcfe-4249-4465-f856-54bc857ae0b2"
      },
      "execution_count": 8,
      "outputs": [
        {
          "output_type": "stream",
          "name": "stdout",
          "text": [
            "Horizontes de predicción: 29\n"
          ]
        }
      ]
    },
    {
      "cell_type": "code",
      "source": [
        "# 4. Número de países y productos\n",
        "num_countries = df['COUNTRY'].nunique()\n",
        "num_products = df['SUBBRAND'].nunique()\n",
        "print(f'Número de países: {num_countries}')\n",
        "print(f'Número de productos: {num_products}')"
      ],
      "metadata": {
        "colab": {
          "base_uri": "https://localhost:8080/"
        },
        "id": "BGja22ESfHC_",
        "outputId": "462926bc-3386-4916-8ae4-907a086c5380"
      },
      "execution_count": 9,
      "outputs": [
        {
          "output_type": "stream",
          "name": "stdout",
          "text": [
            "Número de países: 9\n",
            "Número de productos: 6\n"
          ]
        }
      ]
    },
    {
      "cell_type": "code",
      "source": [
        "# 5. Histórico de datos (Actuals y Forecast)\n",
        "historical_data_range = df[['YEAR', 'MONTH']].drop_duplicates().sort_values(by=['YEAR', 'MONTH'])\n",
        "print('Histórico de datos:')\n",
        "print(historical_data_range.head())"
      ],
      "metadata": {
        "colab": {
          "base_uri": "https://localhost:8080/"
        },
        "id": "lYfG39ajfLDU",
        "outputId": "1a64e701-bcd7-4654-b23b-2488cb2a8962"
      },
      "execution_count": 10,
      "outputs": [
        {
          "output_type": "stream",
          "name": "stdout",
          "text": [
            "Histórico de datos:\n",
            "     YEAR  MONTH\n",
            "34   2023      1\n",
            "397  2023      2\n",
            "118  2023      3\n",
            "9    2023      4\n",
            "57   2023      5\n"
          ]
        }
      ]
    },
    {
      "cell_type": "code",
      "source": [
        "# 6. Forecasts distintos\n",
        "distinct_forecasts = df['FORECAST'].nunique()\n",
        "print(f'Forecasts distintos: {distinct_forecasts}')"
      ],
      "metadata": {
        "colab": {
          "base_uri": "https://localhost:8080/"
        },
        "id": "gzGWnDxffP0r",
        "outputId": "ef2f6fa9-64f8-4b99-d9d9-38b06cd87003"
      },
      "execution_count": 11,
      "outputs": [
        {
          "output_type": "stream",
          "name": "stdout",
          "text": [
            "Forecasts distintos: 12\n"
          ]
        }
      ]
    },
    {
      "cell_type": "markdown",
      "source": [
        "1. **Tamaño del Dataset**: 18,666 filas y 8 columnas.\n",
        "2. **Número de Actuals y Forecast**:\n",
        "   - AI_forecast: 17,766 registros.\n",
        "   - Actuals: 900 registros.\n",
        "3. **Horizontes de predicción**: Hay 29 combinaciones únicas de año y mes (horizontes de predicción).\n",
        "4. **Número de países**: 9 países.\n",
        "5. **Número de productos**: 6 productos (submarcas).\n",
        "6. **Histórico de datos (Actuals y Forecast)**: El rango de datos históricos comienza en enero de 2023.\n",
        "7. **Forecasts distintos**: Hay 12 tipos de forecast distintos.\n"
      ],
      "metadata": {
        "id": "739Pdkmbb53K"
      }
    }
  ]
}