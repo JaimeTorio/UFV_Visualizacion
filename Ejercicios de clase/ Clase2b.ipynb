{
  "nbformat": 4,
  "nbformat_minor": 0,
  "metadata": {
    "colab": {
      "provenance": [],
      "authorship_tag": "ABX9TyNU/BCeoSd7pLtRK/SQ7Q76",
      "include_colab_link": true
    },
    "kernelspec": {
      "name": "python3",
      "display_name": "Python 3"
    },
    "language_info": {
      "name": "python"
    }
  },
  "cells": [
    {
      "cell_type": "markdown",
      "metadata": {
        "id": "view-in-github",
        "colab_type": "text"
      },
      "source": [
        "<a href=\"https://colab.research.google.com/github/JaimeTorio/UFV_Visualizacion/blob/main/Ejercicios%20de%20clase/%20Clase2b.ipynb\" target=\"_parent\"><img src=\"https://colab.research.google.com/assets/colab-badge.svg\" alt=\"Open In Colab\"/></a>"
      ]
    },
    {
      "cell_type": "markdown",
      "source": [
        "# **Clase 18/10/2024**"
      ],
      "metadata": {
        "id": "vI8T2kiuadyz"
      }
    },
    {
      "cell_type": "code",
      "source": [
        "import pandas as pd\n",
        "df = pd.read_csv('datos_ejercicio_ventas.csv')\n",
        "print(df.head())\n"
      ],
      "metadata": {
        "colab": {
          "base_uri": "https://localhost:8080/"
        },
        "id": "dt3RDjvtawoM",
        "outputId": "10670a36-a51a-4c9e-d75f-50bb2631c636"
      },
      "execution_count": 1,
      "outputs": [
        {
          "output_type": "stream",
          "name": "stdout",
          "text": [
            "         COUNTRY        SUBBRAND  YEAR  MONTH     SCENARIO FORECAST  \\\n",
            "0       Portugal     Lipton (L3)  2023     12  AI_forecast  AI_P02F   \n",
            "1  Great Britain     Lipton (L3)  2023     12  AI_forecast  AI_P10F   \n",
            "2          Spain  Pepsi Max (L3)  2023     12  AI_forecast  AI_P09F   \n",
            "3  Great Britain        7up (L3)  2024     12  AI_forecast  AI_P10F   \n",
            "4        Hungary     Lipton (L3)  2023      9  AI_forecast  AI_P03F   \n",
            "\n",
            "   FORECAST_YEAR         AMOUNT  \n",
            "0         2023.0  754356.237194  \n",
            "1         2023.0  560030.558029  \n",
            "2         2023.0   88501.980847  \n",
            "3         2023.0  363224.511516  \n",
            "4         2023.0  396176.120491  \n"
          ]
        }
      ]
    },
    {
      "cell_type": "code",
      "source": [
        "# 1. Dataset size\n",
        "dataset_size = df.shape\n",
        "\n",
        "# 2. Number of Actuals and Forecast (Scenario)\n",
        "actuals_forecast_count = df['SCENARIO'].value_counts()\n",
        "\n",
        "# 3. Prediction Horizons (Year/Month combinations)\n",
        "prediction_horizons = df[['YEAR', 'MONTH']].drop_duplicates().shape[0]\n",
        "\n",
        "# 4. Number of countries and products\n",
        "num_countries = df['COUNTRY'].nunique()\n",
        "num_products = df['SUBBRAND'].nunique()\n",
        "\n",
        "# 5. Historical data (Actuals and Forecast)\n",
        "historical_data_range = df[['YEAR', 'MONTH']].drop_duplicates().sort_values(by=['YEAR', 'MONTH'])\n",
        "\n",
        "# 6. Distinct Forecasts\n",
        "distinct_forecasts = df['FORECAST'].nunique()\n",
        "\n",
        "{\n",
        "    'Dataset size': dataset_size,\n",
        "    'Actuals and Forecast count': actuals_forecast_count.to_dict(),\n",
        "    'Prediction Horizons': prediction_horizons,\n",
        "    'Number of Countries': num_countries,\n",
        "    'Number of Products': num_products,\n",
        "    'Historical Data Range': historical_data_range.head(), # Showing first few rows\n",
        "    'Distinct Forecasts': distinct_forecasts\n",
        "}\n"
      ],
      "metadata": {
        "colab": {
          "base_uri": "https://localhost:8080/"
        },
        "id": "xO6MC3N7a-GN",
        "outputId": "b76aede5-403d-416c-a97f-b7d27bc38ce4"
      },
      "execution_count": 2,
      "outputs": [
        {
          "output_type": "execute_result",
          "data": {
            "text/plain": [
              "{'Dataset size': (18666, 8),\n",
              " 'Actuals and Forecast count': {'AI_forecast': 17766, 'actual': 900},\n",
              " 'Prediction Horizons': 29,\n",
              " 'Number of Countries': 9,\n",
              " 'Number of Products': 6,\n",
              " 'Historical Data Range':      YEAR  MONTH\n",
              " 34   2023      1\n",
              " 397  2023      2\n",
              " 118  2023      3\n",
              " 9    2023      4\n",
              " 57   2023      5,\n",
              " 'Distinct Forecasts': 12}"
            ]
          },
          "metadata": {},
          "execution_count": 2
        }
      ]
    },
    {
      "cell_type": "markdown",
      "source": [
        "1. **Tamaño del Dataset**: 18,666 filas y 8 columnas.\n",
        "2. **Número de Actuals y Forecast**:\n",
        "   - AI_forecast: 17,766 registros.\n",
        "   - Actuals: 900 registros.\n",
        "3. **Horizontes de predicción**: Hay 29 combinaciones únicas de año y mes (horizontes de predicción).\n",
        "4. **Número de países**: 9 países.\n",
        "5. **Número de productos**: 6 productos (submarcas).\n",
        "6. **Histórico de datos (Actuals y Forecast)**: El rango de datos históricos comienza en enero de 2023.\n",
        "7. **Forecasts distintos**: Hay 12 tipos de forecast distintos.\n"
      ],
      "metadata": {
        "id": "739Pdkmbb53K"
      }
    }
  ]
}